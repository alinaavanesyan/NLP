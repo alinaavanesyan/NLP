{
  "nbformat": 4,
  "nbformat_minor": 0,
  "metadata": {
    "colab": {
      "provenance": []
    },
    "kernelspec": {
      "name": "python3",
      "display_name": "Python 3"
    },
    "language_info": {
      "name": "python"
    }
  },
  "cells": [
    {
      "cell_type": "code",
      "source": [
        "pip install fake_useragent"
      ],
      "metadata": {
        "id": "qW6eo9fCXzpq"
      },
      "execution_count": null,
      "outputs": []
    },
    {
      "cell_type": "code",
      "source": [
        "pip install UserAgent"
      ],
      "metadata": {
        "id": "lXKTXK9AX4Rh"
      },
      "execution_count": null,
      "outputs": []
    },
    {
      "cell_type": "code",
      "source": [
        "pip install nltk.downloader stopwords"
      ],
      "metadata": {
        "id": "obnLewLSZYBz"
      },
      "execution_count": null,
      "outputs": []
    },
    {
      "cell_type": "code",
      "source": [
        "pip install nltk.downloader punkt"
      ],
      "metadata": {
        "id": "_VrkX4lNZ5nD"
      },
      "execution_count": null,
      "outputs": []
    },
    {
      "cell_type": "code",
      "source": [
        "pip install pymorphy2"
      ],
      "metadata": {
        "id": "cKNWfUkKaHXA"
      },
      "execution_count": null,
      "outputs": []
    },
    {
      "cell_type": "markdown",
      "source": [
        "### **1. Сбор данных**"
      ],
      "metadata": {
        "id": "8kO39ek9XrfJ"
      }
    },
    {
      "cell_type": "markdown",
      "source": [
        "В качестве источника данных был выбран сайт https://spasibovsem.ru, в котором собраны отзывы на фильмы разных времен. Парсинг осуществлялся с помощью HHTP-протоколов модуля requests, а извлечение данных стало доступно благодаря модулю BeautifulSoup. Для предотвращения блокировки как реакции сайта на краулинг были приняты следующие меры:\n",
        "1) Рандомный фальшивый браузер (UserAgent)\n",
        "2) Промежутки time.sleep(<секунды>) между запросами"
      ],
      "metadata": {
        "id": "EfKgyyCZXom6"
      }
    },
    {
      "cell_type": "markdown",
      "source": [],
      "metadata": {
        "id": "Bspn-XDjXqXd"
      }
    },
    {
      "cell_type": "code",
      "source": [
        "import requests\n",
        "import pandas as pd\n",
        "from bs4 import BeautifulSoup\n",
        "from fake_useragent import UserAgent\n",
        "import requests\n",
        "import time\n",
        "\n",
        "ua = UserAgent(verify_ssl=True)\n",
        "session = requests.session()\n",
        "header={'User-Agent': ua.random, 'referer':'https://www.google.com/'}"
      ],
      "metadata": {
        "id": "VtBcUvkoXtML"
      },
      "execution_count": 7,
      "outputs": []
    },
    {
      "cell_type": "code",
      "source": [
        "all_info = pd.DataFrame(columns=['Name', 'Review', 'Rate'])\n",
        "number_of_pages = 181\n",
        "for i in range(1, number_of_pages+1):\n",
        "    time.sleep(2)\n",
        "    req = session.get(f'https://spasibovsem.ru/filmy-otzyvy/?page={i}', headers=header)\n",
        "    soup = BeautifulSoup(req.text, 'html.parser')\n",
        "    items = soup.find_all('div', {'class': 'name'})\n",
        "    for item in items:\n",
        "        time.sleep(2)\n",
        "        item_name = item.find('a').get_text()\n",
        "        link = 'https://spasibovsem.ru' + item.find('a')['href']\n",
        "        req = session.get(link, headers=header)\n",
        "        item_page = BeautifulSoup(req.text, 'html.parser')\n",
        "        review_links = item_page.find_all('div', {'class': 'full-item goto'})\n",
        "        if isinstance(review_links, list) == False:\n",
        "            review_links = [review_links]\n",
        "        for review_link in review_links:\n",
        "            time.sleep(3)\n",
        "            review_link = review_link.find('a')['href']\n",
        "            req_review = session.get(f'https://spasibovsem.ru{review_link}', headers=header)\n",
        "            review_page = BeautifulSoup(req_review.text, 'html.parser')\n",
        "            rating = review_page.find('div', {'class': 'params'}).find('div', {'class': 'val'}).find('div', {'class': 'stars big'})['data-fill']\n",
        "            review_text = review_page.find('div', {'class': 'text response-text description'}).get_text()\n",
        "            all_info.loc[len(all_info.index)] = [item_name, review_text, rating]\n",
        "            all_info.to_csv('data.csv')"
      ],
      "metadata": {
        "id": "__gNZ0sIX_gE"
      },
      "execution_count": null,
      "outputs": []
    },
    {
      "cell_type": "markdown",
      "source": [
        "*По меры скачивания отзывов данные сохранялись в файл во избежании потери данных переменной при ошибках ядра Kernel*\n",
        "<br>*На скачивание свыше 3к примеров ушло около 6 часов (такое кол-во примеров обусловлено предложениями по улучшению алгоритма (см. п. 5)*)"
      ],
      "metadata": {
        "id": "XMy7xG_qYFbp"
      }
    },
    {
      "cell_type": "markdown",
      "source": [
        "! На сбор и разметку данных ушло больше 6 часов, поэтому необходимые переменные я сохранила в файлы"
      ],
      "metadata": {
        "id": "OO1rw1H908FM"
      }
    },
    {
      "cell_type": "code",
      "source": [
        "import re\n",
        "#собранные с сайта отзывы\n",
        "data_full = pd.read_csv('data.csv', delimiter=',')\n",
        "del data_full['Unnamed: 0']\n",
        "data_full['Rate'] = data_full['Rate'].astype(int)\n",
        "data_full['Real'] = data_full['Rate'].apply(lambda x: 'положительный' if x > 3 else 'отрицательный')\n",
        "\n",
        "#лемматизированные данные\n",
        "data = pd.read_csv('all_data_tokens.csv', delimiter=',')\n",
        "del data['Unnamed: 0']\n",
        "data['Rate'] = data['Rate'].astype(int)\n",
        "data['Real'] = data['Rate'].apply(lambda x: 'положительный' if x > 3 else 'отрицательный')\n",
        "\n",
        "#при сохранении файла меняется тип данных в колонке Review, поэтому из строки нужно опять сделать список\n",
        "def clean_tokens(text):\n",
        "    text2 = []\n",
        "    for i in range(len(text)):\n",
        "        text[i] = re.sub(\"'|«|»|,| ,|, ,| \", '', text[i])\n",
        "        if text[i].isalpha():\n",
        "          text2.append(text[i])\n",
        "    return text2\n",
        "\n",
        "data['Review'] = data['Review'].apply(lambda x: x[1:-2].split(\"',\"))\n",
        "data['Review'] = data['Review'].apply(clean_tokens)\n",
        "data = data[data['Rate'] != 3]"
      ],
      "metadata": {
        "id": "KPPDtfwa07D2"
      },
      "execution_count": 204,
      "outputs": []
    },
    {
      "cell_type": "code",
      "source": [
        "data = pd.read_csv('all_data_tokens.csv', delimiter=',')"
      ],
      "metadata": {
        "id": "-KqvQEPC2a5W"
      },
      "execution_count": null,
      "outputs": []
    },
    {
      "cell_type": "code",
      "source": [
        "data_full.head(10)"
      ],
      "metadata": {
        "colab": {
          "base_uri": "https://localhost:8080/",
          "height": 536
        },
        "id": "wzTmKlV9Y6gf",
        "outputId": "c5529d65-1578-4288-eab9-ebdd99135887"
      },
      "execution_count": 133,
      "outputs": [
        {
          "output_type": "execute_result",
          "data": {
            "text/plain": [
              "                                                Name  \\\n",
              "0                       Фильм \"Рассмеши меня\" (2023)   \n",
              "1                       Фильм \"Неудержимые 4\" (2023)   \n",
              "2                          Фильм \"За Палыча!\" (2023)   \n",
              "3                     Фильм \"Тайны герцогини\" (2022)   \n",
              "4                  Фильм \"У людей так бывает\" (2023)   \n",
              "5            Фильм \"Американские преступники\" (2023)   \n",
              "6                                Фильм \"Эйми\" (2023)   \n",
              "7                   Фильм \"Ставок больше нет\" (2023)   \n",
              "8  Фильм \"Статистическая вероятность любви с перв...   \n",
              "9                     Фильм \"Пенсионный план\" (2023)   \n",
              "\n",
              "                                              Review  Rate  \n",
              "0  \\r\\nРоссийские комедии зачастую оказываются ве...     3  \n",
              "1  \\r\\nКрутые боевики всегда привлекают внимание,...     4  \n",
              "2  \\r\\nЛюблю глянуть комедий, а если на ролях зая...     5  \n",
              "3  \\r\\nИногда у людей могут складываться странные...     4  \n",
              "4  \\r\\nЯ раньше никогда не смотрела кино, которое...     3  \n",
              "5  \\r\\nИногда случается так, что некоторым престу...     4  \n",
              "6  \\r\\nТема похищения и продажи людей всегда акту...     3  \n",
              "7  \\r\\nВсем давно известно, что увлечение азартны...     4  \n",
              "8  \\r\\nДумаю многие верят в то, что есть судьбоно...     4  \n",
              "9  \\r\\nКровные узы, безусловно, играют свою роль ...     3  "
            ],
            "text/html": [
              "\n",
              "  <div id=\"df-c2afa246-76a9-4f06-95aa-89689067fb7a\" class=\"colab-df-container\">\n",
              "    <div>\n",
              "<style scoped>\n",
              "    .dataframe tbody tr th:only-of-type {\n",
              "        vertical-align: middle;\n",
              "    }\n",
              "\n",
              "    .dataframe tbody tr th {\n",
              "        vertical-align: top;\n",
              "    }\n",
              "\n",
              "    .dataframe thead th {\n",
              "        text-align: right;\n",
              "    }\n",
              "</style>\n",
              "<table border=\"1\" class=\"dataframe\">\n",
              "  <thead>\n",
              "    <tr style=\"text-align: right;\">\n",
              "      <th></th>\n",
              "      <th>Name</th>\n",
              "      <th>Review</th>\n",
              "      <th>Rate</th>\n",
              "    </tr>\n",
              "  </thead>\n",
              "  <tbody>\n",
              "    <tr>\n",
              "      <th>0</th>\n",
              "      <td>Фильм \"Рассмеши меня\" (2023)</td>\n",
              "      <td>\\r\\nРоссийские комедии зачастую оказываются ве...</td>\n",
              "      <td>3</td>\n",
              "    </tr>\n",
              "    <tr>\n",
              "      <th>1</th>\n",
              "      <td>Фильм \"Неудержимые 4\" (2023)</td>\n",
              "      <td>\\r\\nКрутые боевики всегда привлекают внимание,...</td>\n",
              "      <td>4</td>\n",
              "    </tr>\n",
              "    <tr>\n",
              "      <th>2</th>\n",
              "      <td>Фильм \"За Палыча!\" (2023)</td>\n",
              "      <td>\\r\\nЛюблю глянуть комедий, а если на ролях зая...</td>\n",
              "      <td>5</td>\n",
              "    </tr>\n",
              "    <tr>\n",
              "      <th>3</th>\n",
              "      <td>Фильм \"Тайны герцогини\" (2022)</td>\n",
              "      <td>\\r\\nИногда у людей могут складываться странные...</td>\n",
              "      <td>4</td>\n",
              "    </tr>\n",
              "    <tr>\n",
              "      <th>4</th>\n",
              "      <td>Фильм \"У людей так бывает\" (2023)</td>\n",
              "      <td>\\r\\nЯ раньше никогда не смотрела кино, которое...</td>\n",
              "      <td>3</td>\n",
              "    </tr>\n",
              "    <tr>\n",
              "      <th>5</th>\n",
              "      <td>Фильм \"Американские преступники\" (2023)</td>\n",
              "      <td>\\r\\nИногда случается так, что некоторым престу...</td>\n",
              "      <td>4</td>\n",
              "    </tr>\n",
              "    <tr>\n",
              "      <th>6</th>\n",
              "      <td>Фильм \"Эйми\" (2023)</td>\n",
              "      <td>\\r\\nТема похищения и продажи людей всегда акту...</td>\n",
              "      <td>3</td>\n",
              "    </tr>\n",
              "    <tr>\n",
              "      <th>7</th>\n",
              "      <td>Фильм \"Ставок больше нет\" (2023)</td>\n",
              "      <td>\\r\\nВсем давно известно, что увлечение азартны...</td>\n",
              "      <td>4</td>\n",
              "    </tr>\n",
              "    <tr>\n",
              "      <th>8</th>\n",
              "      <td>Фильм \"Статистическая вероятность любви с перв...</td>\n",
              "      <td>\\r\\nДумаю многие верят в то, что есть судьбоно...</td>\n",
              "      <td>4</td>\n",
              "    </tr>\n",
              "    <tr>\n",
              "      <th>9</th>\n",
              "      <td>Фильм \"Пенсионный план\" (2023)</td>\n",
              "      <td>\\r\\nКровные узы, безусловно, играют свою роль ...</td>\n",
              "      <td>3</td>\n",
              "    </tr>\n",
              "  </tbody>\n",
              "</table>\n",
              "</div>\n",
              "    <div class=\"colab-df-buttons\">\n",
              "\n",
              "  <div class=\"colab-df-container\">\n",
              "    <button class=\"colab-df-convert\" onclick=\"convertToInteractive('df-c2afa246-76a9-4f06-95aa-89689067fb7a')\"\n",
              "            title=\"Convert this dataframe to an interactive table.\"\n",
              "            style=\"display:none;\">\n",
              "\n",
              "  <svg xmlns=\"http://www.w3.org/2000/svg\" height=\"24px\" viewBox=\"0 -960 960 960\">\n",
              "    <path d=\"M120-120v-720h720v720H120Zm60-500h600v-160H180v160Zm220 220h160v-160H400v160Zm0 220h160v-160H400v160ZM180-400h160v-160H180v160Zm440 0h160v-160H620v160ZM180-180h160v-160H180v160Zm440 0h160v-160H620v160Z\"/>\n",
              "  </svg>\n",
              "    </button>\n",
              "\n",
              "  <style>\n",
              "    .colab-df-container {\n",
              "      display:flex;\n",
              "      gap: 12px;\n",
              "    }\n",
              "\n",
              "    .colab-df-convert {\n",
              "      background-color: #E8F0FE;\n",
              "      border: none;\n",
              "      border-radius: 50%;\n",
              "      cursor: pointer;\n",
              "      display: none;\n",
              "      fill: #1967D2;\n",
              "      height: 32px;\n",
              "      padding: 0 0 0 0;\n",
              "      width: 32px;\n",
              "    }\n",
              "\n",
              "    .colab-df-convert:hover {\n",
              "      background-color: #E2EBFA;\n",
              "      box-shadow: 0px 1px 2px rgba(60, 64, 67, 0.3), 0px 1px 3px 1px rgba(60, 64, 67, 0.15);\n",
              "      fill: #174EA6;\n",
              "    }\n",
              "\n",
              "    .colab-df-buttons div {\n",
              "      margin-bottom: 4px;\n",
              "    }\n",
              "\n",
              "    [theme=dark] .colab-df-convert {\n",
              "      background-color: #3B4455;\n",
              "      fill: #D2E3FC;\n",
              "    }\n",
              "\n",
              "    [theme=dark] .colab-df-convert:hover {\n",
              "      background-color: #434B5C;\n",
              "      box-shadow: 0px 1px 3px 1px rgba(0, 0, 0, 0.15);\n",
              "      filter: drop-shadow(0px 1px 2px rgba(0, 0, 0, 0.3));\n",
              "      fill: #FFFFFF;\n",
              "    }\n",
              "  </style>\n",
              "\n",
              "    <script>\n",
              "      const buttonEl =\n",
              "        document.querySelector('#df-c2afa246-76a9-4f06-95aa-89689067fb7a button.colab-df-convert');\n",
              "      buttonEl.style.display =\n",
              "        google.colab.kernel.accessAllowed ? 'block' : 'none';\n",
              "\n",
              "      async function convertToInteractive(key) {\n",
              "        const element = document.querySelector('#df-c2afa246-76a9-4f06-95aa-89689067fb7a');\n",
              "        const dataTable =\n",
              "          await google.colab.kernel.invokeFunction('convertToInteractive',\n",
              "                                                    [key], {});\n",
              "        if (!dataTable) return;\n",
              "\n",
              "        const docLinkHtml = 'Like what you see? Visit the ' +\n",
              "          '<a target=\"_blank\" href=https://colab.research.google.com/notebooks/data_table.ipynb>data table notebook</a>'\n",
              "          + ' to learn more about interactive tables.';\n",
              "        element.innerHTML = '';\n",
              "        dataTable['output_type'] = 'display_data';\n",
              "        await google.colab.output.renderOutput(dataTable, element);\n",
              "        const docLink = document.createElement('div');\n",
              "        docLink.innerHTML = docLinkHtml;\n",
              "        element.appendChild(docLink);\n",
              "      }\n",
              "    </script>\n",
              "  </div>\n",
              "\n",
              "\n",
              "<div id=\"df-79e5429f-d6b5-48ee-a85b-ed839711aeb7\">\n",
              "  <button class=\"colab-df-quickchart\" onclick=\"quickchart('df-79e5429f-d6b5-48ee-a85b-ed839711aeb7')\"\n",
              "            title=\"Suggest charts.\"\n",
              "            style=\"display:none;\">\n",
              "\n",
              "<svg xmlns=\"http://www.w3.org/2000/svg\" height=\"24px\"viewBox=\"0 0 24 24\"\n",
              "     width=\"24px\">\n",
              "    <g>\n",
              "        <path d=\"M19 3H5c-1.1 0-2 .9-2 2v14c0 1.1.9 2 2 2h14c1.1 0 2-.9 2-2V5c0-1.1-.9-2-2-2zM9 17H7v-7h2v7zm4 0h-2V7h2v10zm4 0h-2v-4h2v4z\"/>\n",
              "    </g>\n",
              "</svg>\n",
              "  </button>\n",
              "\n",
              "<style>\n",
              "  .colab-df-quickchart {\n",
              "      --bg-color: #E8F0FE;\n",
              "      --fill-color: #1967D2;\n",
              "      --hover-bg-color: #E2EBFA;\n",
              "      --hover-fill-color: #174EA6;\n",
              "      --disabled-fill-color: #AAA;\n",
              "      --disabled-bg-color: #DDD;\n",
              "  }\n",
              "\n",
              "  [theme=dark] .colab-df-quickchart {\n",
              "      --bg-color: #3B4455;\n",
              "      --fill-color: #D2E3FC;\n",
              "      --hover-bg-color: #434B5C;\n",
              "      --hover-fill-color: #FFFFFF;\n",
              "      --disabled-bg-color: #3B4455;\n",
              "      --disabled-fill-color: #666;\n",
              "  }\n",
              "\n",
              "  .colab-df-quickchart {\n",
              "    background-color: var(--bg-color);\n",
              "    border: none;\n",
              "    border-radius: 50%;\n",
              "    cursor: pointer;\n",
              "    display: none;\n",
              "    fill: var(--fill-color);\n",
              "    height: 32px;\n",
              "    padding: 0;\n",
              "    width: 32px;\n",
              "  }\n",
              "\n",
              "  .colab-df-quickchart:hover {\n",
              "    background-color: var(--hover-bg-color);\n",
              "    box-shadow: 0 1px 2px rgba(60, 64, 67, 0.3), 0 1px 3px 1px rgba(60, 64, 67, 0.15);\n",
              "    fill: var(--button-hover-fill-color);\n",
              "  }\n",
              "\n",
              "  .colab-df-quickchart-complete:disabled,\n",
              "  .colab-df-quickchart-complete:disabled:hover {\n",
              "    background-color: var(--disabled-bg-color);\n",
              "    fill: var(--disabled-fill-color);\n",
              "    box-shadow: none;\n",
              "  }\n",
              "\n",
              "  .colab-df-spinner {\n",
              "    border: 2px solid var(--fill-color);\n",
              "    border-color: transparent;\n",
              "    border-bottom-color: var(--fill-color);\n",
              "    animation:\n",
              "      spin 1s steps(1) infinite;\n",
              "  }\n",
              "\n",
              "  @keyframes spin {\n",
              "    0% {\n",
              "      border-color: transparent;\n",
              "      border-bottom-color: var(--fill-color);\n",
              "      border-left-color: var(--fill-color);\n",
              "    }\n",
              "    20% {\n",
              "      border-color: transparent;\n",
              "      border-left-color: var(--fill-color);\n",
              "      border-top-color: var(--fill-color);\n",
              "    }\n",
              "    30% {\n",
              "      border-color: transparent;\n",
              "      border-left-color: var(--fill-color);\n",
              "      border-top-color: var(--fill-color);\n",
              "      border-right-color: var(--fill-color);\n",
              "    }\n",
              "    40% {\n",
              "      border-color: transparent;\n",
              "      border-right-color: var(--fill-color);\n",
              "      border-top-color: var(--fill-color);\n",
              "    }\n",
              "    60% {\n",
              "      border-color: transparent;\n",
              "      border-right-color: var(--fill-color);\n",
              "    }\n",
              "    80% {\n",
              "      border-color: transparent;\n",
              "      border-right-color: var(--fill-color);\n",
              "      border-bottom-color: var(--fill-color);\n",
              "    }\n",
              "    90% {\n",
              "      border-color: transparent;\n",
              "      border-bottom-color: var(--fill-color);\n",
              "    }\n",
              "  }\n",
              "</style>\n",
              "\n",
              "  <script>\n",
              "    async function quickchart(key) {\n",
              "      const quickchartButtonEl =\n",
              "        document.querySelector('#' + key + ' button');\n",
              "      quickchartButtonEl.disabled = true;  // To prevent multiple clicks.\n",
              "      quickchartButtonEl.classList.add('colab-df-spinner');\n",
              "      try {\n",
              "        const charts = await google.colab.kernel.invokeFunction(\n",
              "            'suggestCharts', [key], {});\n",
              "      } catch (error) {\n",
              "        console.error('Error during call to suggestCharts:', error);\n",
              "      }\n",
              "      quickchartButtonEl.classList.remove('colab-df-spinner');\n",
              "      quickchartButtonEl.classList.add('colab-df-quickchart-complete');\n",
              "    }\n",
              "    (() => {\n",
              "      let quickchartButtonEl =\n",
              "        document.querySelector('#df-79e5429f-d6b5-48ee-a85b-ed839711aeb7 button');\n",
              "      quickchartButtonEl.style.display =\n",
              "        google.colab.kernel.accessAllowed ? 'block' : 'none';\n",
              "    })();\n",
              "  </script>\n",
              "</div>\n",
              "    </div>\n",
              "  </div>\n"
            ]
          },
          "metadata": {},
          "execution_count": 133
        }
      ]
    },
    {
      "cell_type": "markdown",
      "source": [
        "*Review - текст отзыва, Rate - оценка по 5-ти балльной системе, Name - название фильма (эта колонка не нужна для анализа, ее было удобно создавать на этапе сбора данных для создания словарей с иерархией).*"
      ],
      "metadata": {
        "id": "zpjyh6loY_Zj"
      }
    },
    {
      "cell_type": "markdown",
      "source": [
        "Можно удалить отзывы с оценкой 3, т.к. невозможно достоверно подготовить исходный размеченный датасет, поделив отзывы с Rate = 3 на положительные/отрицательные"
      ],
      "metadata": {
        "id": "h2ZjXKwhZBM0"
      }
    },
    {
      "cell_type": "code",
      "source": [
        "data_full = data_full[data_full.Rate != 3]"
      ],
      "metadata": {
        "id": "gz5cF2JiZEcS"
      },
      "execution_count": 134,
      "outputs": []
    },
    {
      "cell_type": "markdown",
      "source": [],
      "metadata": {
        "id": "1h32-nEi5HYS"
      }
    },
    {
      "cell_type": "code",
      "source": [
        "data_full.groupby('Real').sum()"
      ],
      "metadata": {
        "colab": {
          "base_uri": "https://localhost:8080/",
          "height": 198
        },
        "id": "IHf31-yk45Um",
        "outputId": "7bd0a750-80fa-4f22-de82-bd55a52fe500"
      },
      "execution_count": 206,
      "outputs": [
        {
          "output_type": "stream",
          "name": "stderr",
          "text": [
            "<ipython-input-206-197814b6922d>:1: FutureWarning: The default value of numeric_only in DataFrameGroupBy.sum is deprecated. In a future version, numeric_only will default to False. Either specify numeric_only or select only columns which should be valid for the function.\n",
            "  data_full.groupby('Real').sum()\n"
          ]
        },
        {
          "output_type": "execute_result",
          "data": {
            "text/plain": [
              "                Rate\n",
              "Real                \n",
              "отрицательный   2742\n",
              "положительный  10562"
            ],
            "text/html": [
              "\n",
              "  <div id=\"df-0badfb4b-cbe9-4bc8-9749-0152d216b045\" class=\"colab-df-container\">\n",
              "    <div>\n",
              "<style scoped>\n",
              "    .dataframe tbody tr th:only-of-type {\n",
              "        vertical-align: middle;\n",
              "    }\n",
              "\n",
              "    .dataframe tbody tr th {\n",
              "        vertical-align: top;\n",
              "    }\n",
              "\n",
              "    .dataframe thead th {\n",
              "        text-align: right;\n",
              "    }\n",
              "</style>\n",
              "<table border=\"1\" class=\"dataframe\">\n",
              "  <thead>\n",
              "    <tr style=\"text-align: right;\">\n",
              "      <th></th>\n",
              "      <th>Rate</th>\n",
              "    </tr>\n",
              "    <tr>\n",
              "      <th>Real</th>\n",
              "      <th></th>\n",
              "    </tr>\n",
              "  </thead>\n",
              "  <tbody>\n",
              "    <tr>\n",
              "      <th>отрицательный</th>\n",
              "      <td>2742</td>\n",
              "    </tr>\n",
              "    <tr>\n",
              "      <th>положительный</th>\n",
              "      <td>10562</td>\n",
              "    </tr>\n",
              "  </tbody>\n",
              "</table>\n",
              "</div>\n",
              "    <div class=\"colab-df-buttons\">\n",
              "\n",
              "  <div class=\"colab-df-container\">\n",
              "    <button class=\"colab-df-convert\" onclick=\"convertToInteractive('df-0badfb4b-cbe9-4bc8-9749-0152d216b045')\"\n",
              "            title=\"Convert this dataframe to an interactive table.\"\n",
              "            style=\"display:none;\">\n",
              "\n",
              "  <svg xmlns=\"http://www.w3.org/2000/svg\" height=\"24px\" viewBox=\"0 -960 960 960\">\n",
              "    <path d=\"M120-120v-720h720v720H120Zm60-500h600v-160H180v160Zm220 220h160v-160H400v160Zm0 220h160v-160H400v160ZM180-400h160v-160H180v160Zm440 0h160v-160H620v160ZM180-180h160v-160H180v160Zm440 0h160v-160H620v160Z\"/>\n",
              "  </svg>\n",
              "    </button>\n",
              "\n",
              "  <style>\n",
              "    .colab-df-container {\n",
              "      display:flex;\n",
              "      gap: 12px;\n",
              "    }\n",
              "\n",
              "    .colab-df-convert {\n",
              "      background-color: #E8F0FE;\n",
              "      border: none;\n",
              "      border-radius: 50%;\n",
              "      cursor: pointer;\n",
              "      display: none;\n",
              "      fill: #1967D2;\n",
              "      height: 32px;\n",
              "      padding: 0 0 0 0;\n",
              "      width: 32px;\n",
              "    }\n",
              "\n",
              "    .colab-df-convert:hover {\n",
              "      background-color: #E2EBFA;\n",
              "      box-shadow: 0px 1px 2px rgba(60, 64, 67, 0.3), 0px 1px 3px 1px rgba(60, 64, 67, 0.15);\n",
              "      fill: #174EA6;\n",
              "    }\n",
              "\n",
              "    .colab-df-buttons div {\n",
              "      margin-bottom: 4px;\n",
              "    }\n",
              "\n",
              "    [theme=dark] .colab-df-convert {\n",
              "      background-color: #3B4455;\n",
              "      fill: #D2E3FC;\n",
              "    }\n",
              "\n",
              "    [theme=dark] .colab-df-convert:hover {\n",
              "      background-color: #434B5C;\n",
              "      box-shadow: 0px 1px 3px 1px rgba(0, 0, 0, 0.15);\n",
              "      filter: drop-shadow(0px 1px 2px rgba(0, 0, 0, 0.3));\n",
              "      fill: #FFFFFF;\n",
              "    }\n",
              "  </style>\n",
              "\n",
              "    <script>\n",
              "      const buttonEl =\n",
              "        document.querySelector('#df-0badfb4b-cbe9-4bc8-9749-0152d216b045 button.colab-df-convert');\n",
              "      buttonEl.style.display =\n",
              "        google.colab.kernel.accessAllowed ? 'block' : 'none';\n",
              "\n",
              "      async function convertToInteractive(key) {\n",
              "        const element = document.querySelector('#df-0badfb4b-cbe9-4bc8-9749-0152d216b045');\n",
              "        const dataTable =\n",
              "          await google.colab.kernel.invokeFunction('convertToInteractive',\n",
              "                                                    [key], {});\n",
              "        if (!dataTable) return;\n",
              "\n",
              "        const docLinkHtml = 'Like what you see? Visit the ' +\n",
              "          '<a target=\"_blank\" href=https://colab.research.google.com/notebooks/data_table.ipynb>data table notebook</a>'\n",
              "          + ' to learn more about interactive tables.';\n",
              "        element.innerHTML = '';\n",
              "        dataTable['output_type'] = 'display_data';\n",
              "        await google.colab.output.renderOutput(dataTable, element);\n",
              "        const docLink = document.createElement('div');\n",
              "        docLink.innerHTML = docLinkHtml;\n",
              "        element.appendChild(docLink);\n",
              "      }\n",
              "    </script>\n",
              "  </div>\n",
              "\n",
              "\n",
              "<div id=\"df-a2b447d3-5b45-42fd-b59d-c70fb61410ba\">\n",
              "  <button class=\"colab-df-quickchart\" onclick=\"quickchart('df-a2b447d3-5b45-42fd-b59d-c70fb61410ba')\"\n",
              "            title=\"Suggest charts.\"\n",
              "            style=\"display:none;\">\n",
              "\n",
              "<svg xmlns=\"http://www.w3.org/2000/svg\" height=\"24px\"viewBox=\"0 0 24 24\"\n",
              "     width=\"24px\">\n",
              "    <g>\n",
              "        <path d=\"M19 3H5c-1.1 0-2 .9-2 2v14c0 1.1.9 2 2 2h14c1.1 0 2-.9 2-2V5c0-1.1-.9-2-2-2zM9 17H7v-7h2v7zm4 0h-2V7h2v10zm4 0h-2v-4h2v4z\"/>\n",
              "    </g>\n",
              "</svg>\n",
              "  </button>\n",
              "\n",
              "<style>\n",
              "  .colab-df-quickchart {\n",
              "      --bg-color: #E8F0FE;\n",
              "      --fill-color: #1967D2;\n",
              "      --hover-bg-color: #E2EBFA;\n",
              "      --hover-fill-color: #174EA6;\n",
              "      --disabled-fill-color: #AAA;\n",
              "      --disabled-bg-color: #DDD;\n",
              "  }\n",
              "\n",
              "  [theme=dark] .colab-df-quickchart {\n",
              "      --bg-color: #3B4455;\n",
              "      --fill-color: #D2E3FC;\n",
              "      --hover-bg-color: #434B5C;\n",
              "      --hover-fill-color: #FFFFFF;\n",
              "      --disabled-bg-color: #3B4455;\n",
              "      --disabled-fill-color: #666;\n",
              "  }\n",
              "\n",
              "  .colab-df-quickchart {\n",
              "    background-color: var(--bg-color);\n",
              "    border: none;\n",
              "    border-radius: 50%;\n",
              "    cursor: pointer;\n",
              "    display: none;\n",
              "    fill: var(--fill-color);\n",
              "    height: 32px;\n",
              "    padding: 0;\n",
              "    width: 32px;\n",
              "  }\n",
              "\n",
              "  .colab-df-quickchart:hover {\n",
              "    background-color: var(--hover-bg-color);\n",
              "    box-shadow: 0 1px 2px rgba(60, 64, 67, 0.3), 0 1px 3px 1px rgba(60, 64, 67, 0.15);\n",
              "    fill: var(--button-hover-fill-color);\n",
              "  }\n",
              "\n",
              "  .colab-df-quickchart-complete:disabled,\n",
              "  .colab-df-quickchart-complete:disabled:hover {\n",
              "    background-color: var(--disabled-bg-color);\n",
              "    fill: var(--disabled-fill-color);\n",
              "    box-shadow: none;\n",
              "  }\n",
              "\n",
              "  .colab-df-spinner {\n",
              "    border: 2px solid var(--fill-color);\n",
              "    border-color: transparent;\n",
              "    border-bottom-color: var(--fill-color);\n",
              "    animation:\n",
              "      spin 1s steps(1) infinite;\n",
              "  }\n",
              "\n",
              "  @keyframes spin {\n",
              "    0% {\n",
              "      border-color: transparent;\n",
              "      border-bottom-color: var(--fill-color);\n",
              "      border-left-color: var(--fill-color);\n",
              "    }\n",
              "    20% {\n",
              "      border-color: transparent;\n",
              "      border-left-color: var(--fill-color);\n",
              "      border-top-color: var(--fill-color);\n",
              "    }\n",
              "    30% {\n",
              "      border-color: transparent;\n",
              "      border-left-color: var(--fill-color);\n",
              "      border-top-color: var(--fill-color);\n",
              "      border-right-color: var(--fill-color);\n",
              "    }\n",
              "    40% {\n",
              "      border-color: transparent;\n",
              "      border-right-color: var(--fill-color);\n",
              "      border-top-color: var(--fill-color);\n",
              "    }\n",
              "    60% {\n",
              "      border-color: transparent;\n",
              "      border-right-color: var(--fill-color);\n",
              "    }\n",
              "    80% {\n",
              "      border-color: transparent;\n",
              "      border-right-color: var(--fill-color);\n",
              "      border-bottom-color: var(--fill-color);\n",
              "    }\n",
              "    90% {\n",
              "      border-color: transparent;\n",
              "      border-bottom-color: var(--fill-color);\n",
              "    }\n",
              "  }\n",
              "</style>\n",
              "\n",
              "  <script>\n",
              "    async function quickchart(key) {\n",
              "      const quickchartButtonEl =\n",
              "        document.querySelector('#' + key + ' button');\n",
              "      quickchartButtonEl.disabled = true;  // To prevent multiple clicks.\n",
              "      quickchartButtonEl.classList.add('colab-df-spinner');\n",
              "      try {\n",
              "        const charts = await google.colab.kernel.invokeFunction(\n",
              "            'suggestCharts', [key], {});\n",
              "      } catch (error) {\n",
              "        console.error('Error during call to suggestCharts:', error);\n",
              "      }\n",
              "      quickchartButtonEl.classList.remove('colab-df-spinner');\n",
              "      quickchartButtonEl.classList.add('colab-df-quickchart-complete');\n",
              "    }\n",
              "    (() => {\n",
              "      let quickchartButtonEl =\n",
              "        document.querySelector('#df-a2b447d3-5b45-42fd-b59d-c70fb61410ba button');\n",
              "      quickchartButtonEl.style.display =\n",
              "        google.colab.kernel.accessAllowed ? 'block' : 'none';\n",
              "    })();\n",
              "  </script>\n",
              "</div>\n",
              "    </div>\n",
              "  </div>\n"
            ]
          },
          "metadata": {},
          "execution_count": 206
        }
      ]
    },
    {
      "cell_type": "markdown",
      "source": [
        "Для устранения диспропорции выборки можно сделать следующее:"
      ],
      "metadata": {
        "id": "055ghYaw9D3y"
      }
    },
    {
      "cell_type": "code",
      "source": [
        "pos_df = data_full[data_full['Real'] == 'положительный'].sample(n=250)\n",
        "neg_df = data_full[data_full['Real'] == 'отрицательный'].sample(n=250)\n",
        "example = pd.concat([pos_df, neg_df])"
      ],
      "metadata": {
        "id": "dlg6ZcoG9PAh"
      },
      "execution_count": 217,
      "outputs": []
    },
    {
      "cell_type": "markdown",
      "source": [
        "### **2. Препроцессинг**"
      ],
      "metadata": {
        "id": "M6Z-9qMRZKkz"
      }
    },
    {
      "cell_type": "markdown",
      "source": [
        "На этом этапе проводим нормализацию данных, а именно:\n",
        "- токенизируем предложения отзывов (с помощью библиотеки NLTK)\n",
        "- приводим слова к нижнему регистру\n",
        "- приводим слова к начальной форме (с помощью библиотеки pymorphy2)"
      ],
      "metadata": {
        "id": "hXxy-y8eZLo6"
      }
    },
    {
      "cell_type": "code",
      "source": [
        "import nltk\n",
        "from nltk.corpus import stopwords\n",
        "nltk.download('stopwords')\n",
        "nltk.download('punkt')\n",
        "stops = set(stopwords.words('russian'))\n",
        "from nltk.tokenize import word_tokenize\n",
        "from string import punctuation\n",
        "tokenizer = nltk.data.load('tokenizers/punkt/russian.pickle')\n",
        "from pymorphy2 import MorphAnalyzer\n",
        "morph = MorphAnalyzer()\n",
        "\n",
        "def get_clean(text):\n",
        "    clean_text = nltk.word_tokenize(text)\n",
        "    lemmas = []\n",
        "    for word in clean_text:\n",
        "        if word not in punctuation and word.isalpha():\n",
        "          word = word.lower()\n",
        "          if morph.parse(word)[0].normal_form:\n",
        "              lemmas.append(morph.parse(word)[0].normal_form)\n",
        "    return lemmas"
      ],
      "metadata": {
        "colab": {
          "base_uri": "https://localhost:8080/"
        },
        "id": "x6pOGlqVZPAH",
        "outputId": "f60de90a-3165-4cec-9d9c-50f189505120"
      },
      "execution_count": 146,
      "outputs": [
        {
          "output_type": "stream",
          "name": "stderr",
          "text": [
            "[nltk_data] Downloading package stopwords to /root/nltk_data...\n",
            "[nltk_data]   Package stopwords is already up-to-date!\n",
            "[nltk_data] Downloading package punkt to /root/nltk_data...\n",
            "[nltk_data]   Package punkt is already up-to-date!\n"
          ]
        }
      ]
    },
    {
      "cell_type": "code",
      "source": [
        "data_sample = data_full.sample(frac=0.2)\n",
        "data_sample = data_sample[data_sample['Rate'] != 3]\n",
        "data_sample['Review'] = data_sample['Review'].apply(get_clean)"
      ],
      "metadata": {
        "id": "wOiZ--wuaMn1"
      },
      "execution_count": 156,
      "outputs": []
    },
    {
      "cell_type": "code",
      "source": [
        "data_sample"
      ],
      "metadata": {
        "colab": {
          "base_uri": "https://localhost:8080/",
          "height": 597
        },
        "id": "FCtLBXTM3H5F",
        "outputId": "d39505c8-6d77-41d1-fe57-2757dfa124f1"
      },
      "execution_count": 157,
      "outputs": [
        {
          "output_type": "execute_result",
          "data": {
            "text/plain": [
              "                                          Name  \\\n",
              "3363  Фильм \"Терминатор: Тёмные судьбы\" (2019)   \n",
              "1217             Фильм \"Смерть на Ниле\" (2020)   \n",
              "3304             Фильм \"Короли интриги\" (2019)   \n",
              "1089              Фильм \"Падение Токио\" (2021)   \n",
              "2279   Фильм \"Колдовство: Новый ритуал” (2020)   \n",
              "...                                        ...   \n",
              "2290   Фильм \"Лесси. Возвращение домой\" (2020)   \n",
              "3269               Фильм \"Достать ножи\" (2019)   \n",
              "538            Фильм \"Клуб безбашенных\" (2009)   \n",
              "1677     Фильм \"Жандарм и инопланетяне\" (1978)   \n",
              "1423              Фильм \"Аллея кошмаров (2021)   \n",
              "\n",
              "                                                 Review  Rate  \n",
              "3363  [в, последний, раз, я, писать, отзыв, на, новы...     2  \n",
              "1217  [в, это, фильм, прозвучать, мысль, что, челове...     5  \n",
              "3304  [но, опять, же, сам, ребёнок, разный, бывать, ...     5  \n",
              "1089  [отличный, драма, с, карин, вьяр, в, главный, ...     5  \n",
              "2279  [вместо, тот, чтобы, делать, домашний, задание...     2  \n",
              "...                                                 ...   ...  \n",
              "2290  [посмотреть, с, ребёнок, немецкий, фильм, год,...     5  \n",
              "3269  [американский, фильм, достать, нож, увлекатель...     4  \n",
              "538   [основать, на, реальный, история, сильный, и, ...     5  \n",
              "1677  [сегодня, я, хотеть, рассказать, вы, о, смешно...     5  \n",
              "1423  [весь, привет, вчера, удаться, посмотреть, дол...     5  \n",
              "\n",
              "[530 rows x 3 columns]"
            ],
            "text/html": [
              "\n",
              "  <div id=\"df-b7a17024-f2bc-4e20-9017-7465f8382441\" class=\"colab-df-container\">\n",
              "    <div>\n",
              "<style scoped>\n",
              "    .dataframe tbody tr th:only-of-type {\n",
              "        vertical-align: middle;\n",
              "    }\n",
              "\n",
              "    .dataframe tbody tr th {\n",
              "        vertical-align: top;\n",
              "    }\n",
              "\n",
              "    .dataframe thead th {\n",
              "        text-align: right;\n",
              "    }\n",
              "</style>\n",
              "<table border=\"1\" class=\"dataframe\">\n",
              "  <thead>\n",
              "    <tr style=\"text-align: right;\">\n",
              "      <th></th>\n",
              "      <th>Name</th>\n",
              "      <th>Review</th>\n",
              "      <th>Rate</th>\n",
              "    </tr>\n",
              "  </thead>\n",
              "  <tbody>\n",
              "    <tr>\n",
              "      <th>3363</th>\n",
              "      <td>Фильм \"Терминатор: Тёмные судьбы\" (2019)</td>\n",
              "      <td>[в, последний, раз, я, писать, отзыв, на, новы...</td>\n",
              "      <td>2</td>\n",
              "    </tr>\n",
              "    <tr>\n",
              "      <th>1217</th>\n",
              "      <td>Фильм \"Смерть на Ниле\" (2020)</td>\n",
              "      <td>[в, это, фильм, прозвучать, мысль, что, челове...</td>\n",
              "      <td>5</td>\n",
              "    </tr>\n",
              "    <tr>\n",
              "      <th>3304</th>\n",
              "      <td>Фильм \"Короли интриги\" (2019)</td>\n",
              "      <td>[но, опять, же, сам, ребёнок, разный, бывать, ...</td>\n",
              "      <td>5</td>\n",
              "    </tr>\n",
              "    <tr>\n",
              "      <th>1089</th>\n",
              "      <td>Фильм \"Падение Токио\" (2021)</td>\n",
              "      <td>[отличный, драма, с, карин, вьяр, в, главный, ...</td>\n",
              "      <td>5</td>\n",
              "    </tr>\n",
              "    <tr>\n",
              "      <th>2279</th>\n",
              "      <td>Фильм \"Колдовство: Новый ритуал” (2020)</td>\n",
              "      <td>[вместо, тот, чтобы, делать, домашний, задание...</td>\n",
              "      <td>2</td>\n",
              "    </tr>\n",
              "    <tr>\n",
              "      <th>...</th>\n",
              "      <td>...</td>\n",
              "      <td>...</td>\n",
              "      <td>...</td>\n",
              "    </tr>\n",
              "    <tr>\n",
              "      <th>2290</th>\n",
              "      <td>Фильм \"Лесси. Возвращение домой\" (2020)</td>\n",
              "      <td>[посмотреть, с, ребёнок, немецкий, фильм, год,...</td>\n",
              "      <td>5</td>\n",
              "    </tr>\n",
              "    <tr>\n",
              "      <th>3269</th>\n",
              "      <td>Фильм \"Достать ножи\" (2019)</td>\n",
              "      <td>[американский, фильм, достать, нож, увлекатель...</td>\n",
              "      <td>4</td>\n",
              "    </tr>\n",
              "    <tr>\n",
              "      <th>538</th>\n",
              "      <td>Фильм \"Клуб безбашенных\" (2009)</td>\n",
              "      <td>[основать, на, реальный, история, сильный, и, ...</td>\n",
              "      <td>5</td>\n",
              "    </tr>\n",
              "    <tr>\n",
              "      <th>1677</th>\n",
              "      <td>Фильм \"Жандарм и инопланетяне\" (1978)</td>\n",
              "      <td>[сегодня, я, хотеть, рассказать, вы, о, смешно...</td>\n",
              "      <td>5</td>\n",
              "    </tr>\n",
              "    <tr>\n",
              "      <th>1423</th>\n",
              "      <td>Фильм \"Аллея кошмаров (2021)</td>\n",
              "      <td>[весь, привет, вчера, удаться, посмотреть, дол...</td>\n",
              "      <td>5</td>\n",
              "    </tr>\n",
              "  </tbody>\n",
              "</table>\n",
              "<p>530 rows × 3 columns</p>\n",
              "</div>\n",
              "    <div class=\"colab-df-buttons\">\n",
              "\n",
              "  <div class=\"colab-df-container\">\n",
              "    <button class=\"colab-df-convert\" onclick=\"convertToInteractive('df-b7a17024-f2bc-4e20-9017-7465f8382441')\"\n",
              "            title=\"Convert this dataframe to an interactive table.\"\n",
              "            style=\"display:none;\">\n",
              "\n",
              "  <svg xmlns=\"http://www.w3.org/2000/svg\" height=\"24px\" viewBox=\"0 -960 960 960\">\n",
              "    <path d=\"M120-120v-720h720v720H120Zm60-500h600v-160H180v160Zm220 220h160v-160H400v160Zm0 220h160v-160H400v160ZM180-400h160v-160H180v160Zm440 0h160v-160H620v160ZM180-180h160v-160H180v160Zm440 0h160v-160H620v160Z\"/>\n",
              "  </svg>\n",
              "    </button>\n",
              "\n",
              "  <style>\n",
              "    .colab-df-container {\n",
              "      display:flex;\n",
              "      gap: 12px;\n",
              "    }\n",
              "\n",
              "    .colab-df-convert {\n",
              "      background-color: #E8F0FE;\n",
              "      border: none;\n",
              "      border-radius: 50%;\n",
              "      cursor: pointer;\n",
              "      display: none;\n",
              "      fill: #1967D2;\n",
              "      height: 32px;\n",
              "      padding: 0 0 0 0;\n",
              "      width: 32px;\n",
              "    }\n",
              "\n",
              "    .colab-df-convert:hover {\n",
              "      background-color: #E2EBFA;\n",
              "      box-shadow: 0px 1px 2px rgba(60, 64, 67, 0.3), 0px 1px 3px 1px rgba(60, 64, 67, 0.15);\n",
              "      fill: #174EA6;\n",
              "    }\n",
              "\n",
              "    .colab-df-buttons div {\n",
              "      margin-bottom: 4px;\n",
              "    }\n",
              "\n",
              "    [theme=dark] .colab-df-convert {\n",
              "      background-color: #3B4455;\n",
              "      fill: #D2E3FC;\n",
              "    }\n",
              "\n",
              "    [theme=dark] .colab-df-convert:hover {\n",
              "      background-color: #434B5C;\n",
              "      box-shadow: 0px 1px 3px 1px rgba(0, 0, 0, 0.15);\n",
              "      filter: drop-shadow(0px 1px 2px rgba(0, 0, 0, 0.3));\n",
              "      fill: #FFFFFF;\n",
              "    }\n",
              "  </style>\n",
              "\n",
              "    <script>\n",
              "      const buttonEl =\n",
              "        document.querySelector('#df-b7a17024-f2bc-4e20-9017-7465f8382441 button.colab-df-convert');\n",
              "      buttonEl.style.display =\n",
              "        google.colab.kernel.accessAllowed ? 'block' : 'none';\n",
              "\n",
              "      async function convertToInteractive(key) {\n",
              "        const element = document.querySelector('#df-b7a17024-f2bc-4e20-9017-7465f8382441');\n",
              "        const dataTable =\n",
              "          await google.colab.kernel.invokeFunction('convertToInteractive',\n",
              "                                                    [key], {});\n",
              "        if (!dataTable) return;\n",
              "\n",
              "        const docLinkHtml = 'Like what you see? Visit the ' +\n",
              "          '<a target=\"_blank\" href=https://colab.research.google.com/notebooks/data_table.ipynb>data table notebook</a>'\n",
              "          + ' to learn more about interactive tables.';\n",
              "        element.innerHTML = '';\n",
              "        dataTable['output_type'] = 'display_data';\n",
              "        await google.colab.output.renderOutput(dataTable, element);\n",
              "        const docLink = document.createElement('div');\n",
              "        docLink.innerHTML = docLinkHtml;\n",
              "        element.appendChild(docLink);\n",
              "      }\n",
              "    </script>\n",
              "  </div>\n",
              "\n",
              "\n",
              "<div id=\"df-c0a6d559-eedf-4158-bcdc-33fb75a3db31\">\n",
              "  <button class=\"colab-df-quickchart\" onclick=\"quickchart('df-c0a6d559-eedf-4158-bcdc-33fb75a3db31')\"\n",
              "            title=\"Suggest charts.\"\n",
              "            style=\"display:none;\">\n",
              "\n",
              "<svg xmlns=\"http://www.w3.org/2000/svg\" height=\"24px\"viewBox=\"0 0 24 24\"\n",
              "     width=\"24px\">\n",
              "    <g>\n",
              "        <path d=\"M19 3H5c-1.1 0-2 .9-2 2v14c0 1.1.9 2 2 2h14c1.1 0 2-.9 2-2V5c0-1.1-.9-2-2-2zM9 17H7v-7h2v7zm4 0h-2V7h2v10zm4 0h-2v-4h2v4z\"/>\n",
              "    </g>\n",
              "</svg>\n",
              "  </button>\n",
              "\n",
              "<style>\n",
              "  .colab-df-quickchart {\n",
              "      --bg-color: #E8F0FE;\n",
              "      --fill-color: #1967D2;\n",
              "      --hover-bg-color: #E2EBFA;\n",
              "      --hover-fill-color: #174EA6;\n",
              "      --disabled-fill-color: #AAA;\n",
              "      --disabled-bg-color: #DDD;\n",
              "  }\n",
              "\n",
              "  [theme=dark] .colab-df-quickchart {\n",
              "      --bg-color: #3B4455;\n",
              "      --fill-color: #D2E3FC;\n",
              "      --hover-bg-color: #434B5C;\n",
              "      --hover-fill-color: #FFFFFF;\n",
              "      --disabled-bg-color: #3B4455;\n",
              "      --disabled-fill-color: #666;\n",
              "  }\n",
              "\n",
              "  .colab-df-quickchart {\n",
              "    background-color: var(--bg-color);\n",
              "    border: none;\n",
              "    border-radius: 50%;\n",
              "    cursor: pointer;\n",
              "    display: none;\n",
              "    fill: var(--fill-color);\n",
              "    height: 32px;\n",
              "    padding: 0;\n",
              "    width: 32px;\n",
              "  }\n",
              "\n",
              "  .colab-df-quickchart:hover {\n",
              "    background-color: var(--hover-bg-color);\n",
              "    box-shadow: 0 1px 2px rgba(60, 64, 67, 0.3), 0 1px 3px 1px rgba(60, 64, 67, 0.15);\n",
              "    fill: var(--button-hover-fill-color);\n",
              "  }\n",
              "\n",
              "  .colab-df-quickchart-complete:disabled,\n",
              "  .colab-df-quickchart-complete:disabled:hover {\n",
              "    background-color: var(--disabled-bg-color);\n",
              "    fill: var(--disabled-fill-color);\n",
              "    box-shadow: none;\n",
              "  }\n",
              "\n",
              "  .colab-df-spinner {\n",
              "    border: 2px solid var(--fill-color);\n",
              "    border-color: transparent;\n",
              "    border-bottom-color: var(--fill-color);\n",
              "    animation:\n",
              "      spin 1s steps(1) infinite;\n",
              "  }\n",
              "\n",
              "  @keyframes spin {\n",
              "    0% {\n",
              "      border-color: transparent;\n",
              "      border-bottom-color: var(--fill-color);\n",
              "      border-left-color: var(--fill-color);\n",
              "    }\n",
              "    20% {\n",
              "      border-color: transparent;\n",
              "      border-left-color: var(--fill-color);\n",
              "      border-top-color: var(--fill-color);\n",
              "    }\n",
              "    30% {\n",
              "      border-color: transparent;\n",
              "      border-left-color: var(--fill-color);\n",
              "      border-top-color: var(--fill-color);\n",
              "      border-right-color: var(--fill-color);\n",
              "    }\n",
              "    40% {\n",
              "      border-color: transparent;\n",
              "      border-right-color: var(--fill-color);\n",
              "      border-top-color: var(--fill-color);\n",
              "    }\n",
              "    60% {\n",
              "      border-color: transparent;\n",
              "      border-right-color: var(--fill-color);\n",
              "    }\n",
              "    80% {\n",
              "      border-color: transparent;\n",
              "      border-right-color: var(--fill-color);\n",
              "      border-bottom-color: var(--fill-color);\n",
              "    }\n",
              "    90% {\n",
              "      border-color: transparent;\n",
              "      border-bottom-color: var(--fill-color);\n",
              "    }\n",
              "  }\n",
              "</style>\n",
              "\n",
              "  <script>\n",
              "    async function quickchart(key) {\n",
              "      const quickchartButtonEl =\n",
              "        document.querySelector('#' + key + ' button');\n",
              "      quickchartButtonEl.disabled = true;  // To prevent multiple clicks.\n",
              "      quickchartButtonEl.classList.add('colab-df-spinner');\n",
              "      try {\n",
              "        const charts = await google.colab.kernel.invokeFunction(\n",
              "            'suggestCharts', [key], {});\n",
              "      } catch (error) {\n",
              "        console.error('Error during call to suggestCharts:', error);\n",
              "      }\n",
              "      quickchartButtonEl.classList.remove('colab-df-spinner');\n",
              "      quickchartButtonEl.classList.add('colab-df-quickchart-complete');\n",
              "    }\n",
              "    (() => {\n",
              "      let quickchartButtonEl =\n",
              "        document.querySelector('#df-c0a6d559-eedf-4158-bcdc-33fb75a3db31 button');\n",
              "      quickchartButtonEl.style.display =\n",
              "        google.colab.kernel.accessAllowed ? 'block' : 'none';\n",
              "    })();\n",
              "  </script>\n",
              "</div>\n",
              "    </div>\n",
              "  </div>\n"
            ]
          },
          "metadata": {},
          "execution_count": 157
        }
      ]
    },
    {
      "cell_type": "markdown",
      "source": [
        "### **3. Тональный словарь**"
      ],
      "metadata": {
        "id": "pM2WFFduaQ5e"
      }
    },
    {
      "cell_type": "markdown",
      "source": [
        "Составляем 2 множества:\n",
        "- слова, которые встречаются только в положительных отзывах\n",
        "- слова, которые встречаются только в отрицательных отзывах"
      ],
      "metadata": {
        "id": "L55JmkP7aRmN"
      }
    },
    {
      "cell_type": "code",
      "source": [
        "positive = data_sample[data_sample['Rate'] >= 4]['Review'].tolist()\n",
        "negative = data_sample[data_sample['Rate'] < 4]['Review'].tolist()\n",
        "positive = [element for each_list in positive for element in each_list]\n",
        "negative = [element for each_list in negative for element in each_list]\n",
        "only_positive = [x for x in positive if x not in negative]\n",
        "only_negative = [x for x in negative if x not in positive]"
      ],
      "metadata": {
        "id": "XqlGc7VgaT2M"
      },
      "execution_count": 158,
      "outputs": []
    },
    {
      "cell_type": "markdown",
      "source": [
        "Также удаляем слова, которые встречаются 1-2, поскольку их попадание в множество может быть случайным."
      ],
      "metadata": {
        "id": "CNv0tf8mapGO"
      }
    },
    {
      "cell_type": "code",
      "source": [
        "only_positive_freq = []\n",
        "for word in only_positive:\n",
        "  if only_positive.count(word) > 2:\n",
        "    only_positive_freq.append(word)\n",
        "\n",
        "only_negative_freq = []\n",
        "for word in only_negative:\n",
        "  if only_negative.count(word) > 2:\n",
        "    only_negative_freq.append(word)\n",
        "\n",
        "only_positive_freq = set(only_positive_freq)\n",
        "only_negative_freq = set(only_negative_freq)"
      ],
      "metadata": {
        "id": "oh0cwNk1aqRZ"
      },
      "execution_count": 159,
      "outputs": []
    },
    {
      "cell_type": "code",
      "source": [
        "[len(only_positive_freq), len(only_negative_freq)]"
      ],
      "metadata": {
        "colab": {
          "base_uri": "https://localhost:8080/"
        },
        "id": "giGSBY0parPX",
        "outputId": "2da163ad-ba7a-434d-8278-2ecc94c765a9"
      },
      "execution_count": 160,
      "outputs": [
        {
          "output_type": "execute_result",
          "data": {
            "text/plain": [
              "[1368, 23]"
            ]
          },
          "metadata": {},
          "execution_count": 160
        }
      ]
    },
    {
      "cell_type": "markdown",
      "source": [
        "### **4. Анализ отзывов**"
      ],
      "metadata": {
        "id": "BZbjIR4HbB3_"
      }
    },
    {
      "cell_type": "code",
      "source": [
        "def sentiment(text):\n",
        "  positive_count = int()\n",
        "  negative_count = int()\n",
        "  for lemma in text:\n",
        "    if lemma in only_positive_freq:\n",
        "      positive_count += 1\n",
        "    elif lemma in only_negative_freq:\n",
        "      negative_count += 1\n",
        "  if positive_count > negative_count:\n",
        "    return 'положительный'\n",
        "  elif positive_count < negative_count:\n",
        "    return 'отрицательный'\n",
        "  else:\n",
        "    return 'нейтральный'"
      ],
      "metadata": {
        "id": "RSHW5ZoHbCiO"
      },
      "execution_count": 161,
      "outputs": []
    },
    {
      "cell_type": "markdown",
      "source": [
        "Теперь посчитаем точность алгоритма для рандомных выборок одного размера:"
      ],
      "metadata": {
        "id": "umsokgxVbWtk"
      }
    },
    {
      "cell_type": "markdown",
      "source": [
        "Пример 1:"
      ],
      "metadata": {
        "id": "KL0G1TK34FMt"
      }
    },
    {
      "cell_type": "code",
      "source": [
        "data_sample = data.sample(frac=0.2)\n",
        "data_sample['Estimate'] = data_sample['Review'].apply(sentiment)\n",
        "#добавим разметку на основе звезд, присужденных каждому отзыву пользователем\n",
        "data_sample['Real'] = data_sample['Rate'].apply(lambda x: 'положительный' if x > 3 else 'отрицательный')\n",
        "\n",
        "stat = {'неверно': 0, 'верно': 0}\n",
        "for index, row in data_sample.iterrows():\n",
        "    if row['Estimate'] != row['Real']:\n",
        "      stat['неверно'] += 1\n",
        "    else:\n",
        "      stat['верно'] += 1\n",
        "\n",
        "print('Верно:', stat['верно'], 'Неверно:', stat['неверно'], 'Процент точности:', round(stat['верно']/(stat['верно']+stat['неверно'])*100, 4))"
      ],
      "metadata": {
        "colab": {
          "base_uri": "https://localhost:8080/"
        },
        "id": "foGBu89ZbXHd",
        "outputId": "ab440ea0-c464-4737-9f1a-827885f7d4bd"
      },
      "execution_count": 189,
      "outputs": [
        {
          "output_type": "stream",
          "name": "stdout",
          "text": [
            "Верно: 462 Неверно: 68 Процент точности: 87.1698\n"
          ]
        }
      ]
    },
    {
      "cell_type": "markdown",
      "source": [
        "Пример 2:"
      ],
      "metadata": {
        "id": "ad9fSMrP4Hjr"
      }
    },
    {
      "cell_type": "code",
      "source": [
        "data_sample = data.sample(frac=0.2)\n",
        "data_sample['Estimate'] = data_sample['Review'].apply(sentiment)\n",
        "#добавим разметку на основе звезд, присужденных каждому отзыву пользователем\n",
        "data_sample['Real'] = data_sample['Rate'].apply(lambda x: 'положительный' if x > 3 else 'отрицательный')\n",
        "\n",
        "stat = {'неверно': 0, 'верно': 0}\n",
        "for index, row in data_sample.iterrows():\n",
        "    if row['Estimate'] != row['Real']:\n",
        "      stat['неверно'] += 1\n",
        "    else:\n",
        "      stat['верно'] += 1\n",
        "\n",
        "print('Верно:', stat['верно'], 'Неверно:', stat['неверно'], 'Процент точности:', round(stat['верно']/(stat['верно']+stat['неверно'])*100, 4))"
      ],
      "metadata": {
        "colab": {
          "base_uri": "https://localhost:8080/"
        },
        "id": "GV7MON5C4PLl",
        "outputId": "84e5d5bf-13bf-450b-a1da-f0ee57c2d477"
      },
      "execution_count": 197,
      "outputs": [
        {
          "output_type": "stream",
          "name": "stdout",
          "text": [
            "Верно: 468 Неверно: 62 Процент точности: 88.3019\n"
          ]
        }
      ]
    },
    {
      "cell_type": "markdown",
      "source": [
        "--> точность по-разному проявляется на разных выборках, варьируется от 86 до 91% (также учитывались выборки из бОльшего числа примеров, точность примерно одинаковая)"
      ],
      "metadata": {
        "id": "06_Dr3gp-CwK"
      }
    },
    {
      "cell_type": "markdown",
      "source": [
        "А если выборка пропорциональна?"
      ],
      "metadata": {
        "id": "yx1tb2aP9VNo"
      }
    },
    {
      "cell_type": "code",
      "source": [
        "pos_df = data[data['Real'] == 'положительный'].sample(n=250)\n",
        "neg_df = data[data['Real'] == 'отрицательный'].sample(n=250)\n",
        "data_sample = pd.concat([pos_df, neg_df])\n",
        "data_sample['Estimate'] = data_sample['Review'].apply(sentiment)\n",
        "#добавим разметку на основе звезд, присужденных каждому отзыву пользователем\n",
        "data_sample['Real'] = data_sample['Rate'].apply(lambda x: 'положительный' if x > 3 else 'отрицательный')\n",
        "\n",
        "stat = {'неверно': 0, 'верно': 0}\n",
        "for index, row in data_sample.iterrows():\n",
        "    if row['Estimate'] != row['Real']:\n",
        "      stat['неверно'] += 1\n",
        "    else:\n",
        "      stat['верно'] += 1\n",
        "\n",
        "print('Верно:', stat['верно'], 'Неверно:', stat['неверно'], 'Процент точности:', round(stat['верно']/(stat['верно']+stat['неверно'])*100, 4))"
      ],
      "metadata": {
        "colab": {
          "base_uri": "https://localhost:8080/"
        },
        "id": "zen1PhJK9X4k",
        "outputId": "771e68db-9447-4464-aa90-8758c38d79ac"
      },
      "execution_count": 252,
      "outputs": [
        {
          "output_type": "stream",
          "name": "stdout",
          "text": [
            "Верно: 268 Неверно: 232 Процент точности: 53.6\n"
          ]
        }
      ]
    },
    {
      "cell_type": "markdown",
      "source": [
        "Алгоритм демонстрирует плохую точность (не больше 55%). Можно заметить, что основная проблема - в идентификации негативных отзывов как негативных (алгоритм часто определяет их как положительные или нейтральные). Это может быть связано со составом тонального словаря: отрицательных маркеров в разы меньше положительных."
      ],
      "metadata": {
        "id": "En9XWsqz-Gfq"
      }
    },
    {
      "cell_type": "markdown",
      "source": [
        "### **5. Улучшение алгоритма**"
      ],
      "metadata": {
        "id": "NmvxQqwocRYq"
      }
    },
    {
      "cell_type": "markdown",
      "source": [
        "**Повысить точность алгоритма можно следующими способами:**"
      ],
      "metadata": {
        "id": "DIA4Psc7cTg0"
      }
    },
    {
      "cell_type": "markdown",
      "source": [
        "1) Несмотря на то что мы избавились от возможно нейтральных отзывов с оценкой 3, алгоритм вcё же не может оценить некоторые отзывы и определяет их как \"нейтральные\" (хотя спорные отзывы, кажется, должны отсутствовать)"
      ],
      "metadata": {
        "id": "7CfA44HecVu-"
      }
    },
    {
      "cell_type": "markdown",
      "source": [
        "Можно попробовать создать ***модель классификации***, которая бы сама разбиралась бы с \"нейтральными\" отзывами"
      ],
      "metadata": {
        "id": "W36D8UcNcjhb"
      }
    },
    {
      "cell_type": "code",
      "source": [
        "from sklearn.linear_model import LogisticRegression\n",
        "from sklearn.metrics import accuracy_score\n",
        "from sklearn.model_selection import train_test_split\n",
        "from sklearn.feature_extraction.text import TfidfVectorizer\n",
        "\n",
        "data2 = data.copy()\n",
        "data2['Review'] = data2['Review'].apply(lambda x: ' '.join(x))\n",
        "d_train, d_test, y_train, y_test = train_test_split(data2['Review'], data2['Real'], train_size=0.8, random_state=0) #обучаем модель на около 2к примерах\n",
        "vec = TfidfVectorizer(binary=True, max_features=1000)\n",
        "vec.fit_transform(d_train)\n",
        "X_train = vec.transform(d_train).astype(int)\n",
        "X_test = vec.transform(d_test).astype(int)\n",
        "Y_train = vec.transform(y_train).astype(int)\n",
        "Y_test = vec.transform(y_test).astype(int)\n",
        "\n",
        "model = LogisticRegression()\n",
        "model.fit(X_train, y_train)\n",
        "y_pred = model.predict(X_test)\n",
        "accuracy_score(y_test, y_pred)"
      ],
      "metadata": {
        "colab": {
          "base_uri": "https://localhost:8080/"
        },
        "id": "_snDTzCRcXxl",
        "outputId": "833ea37b-3cef-438d-cfcf-55641a70a97c"
      },
      "execution_count": 230,
      "outputs": [
        {
          "output_type": "execute_result",
          "data": {
            "text/plain": [
              "0.8924528301886793"
            ]
          },
          "metadata": {},
          "execution_count": 230
        }
      ]
    },
    {
      "cell_type": "code",
      "source": [
        "data_test = data.sample(frac=0.2)\n",
        "data_test['Estimate'] = data_test['Review'].apply(sentiment)\n",
        "data_test['Review'] = data_test['Review'].apply(lambda x: ' '.join(x))\n",
        "\n",
        "for index, row in data_test.iterrows():\n",
        "    if row['Estimate'] == 'нейтральный':\n",
        "        data_test.at[index, 'Estimate'] = model.predict(vec.transform([row['Review']]).astype(int))[0]\n",
        "\n",
        "y_pred = vec.transform(data_test['Estimate']).astype(int)\n",
        "y_test = vec.transform(data_test['Real']).astype(int)\n",
        "accuracy_score(y_test, y_pred)"
      ],
      "metadata": {
        "id": "8qRUMAsSd0qt",
        "colab": {
          "base_uri": "https://localhost:8080/"
        },
        "outputId": "93e8794e-2d76-4804-e7d4-70f04a8db081"
      },
      "execution_count": 269,
      "outputs": [
        {
          "output_type": "execute_result",
          "data": {
            "text/plain": [
              "0.9037735849056604"
            ]
          },
          "metadata": {},
          "execution_count": 269
        }
      ]
    },
    {
      "cell_type": "markdown",
      "source": [
        "Пропорциональная выборка:"
      ],
      "metadata": {
        "id": "qb32EuyuAENf"
      }
    },
    {
      "cell_type": "code",
      "source": [
        "pos_df = data[data['Real'] == 'положительный'].sample(n=250)\n",
        "neg_df = data[data['Real'] == 'отрицательный'].sample(n=250)\n",
        "data_test = pd.concat([pos_df, neg_df])\n",
        "data_test['Estimate'] = data_test['Review'].apply(sentiment)\n",
        "#добавим разметку на основе звезд, присужденных каждому отзыву пользователем\n",
        "data_test['Real'] = data_test['Rate'].apply(lambda x: 'положительный' if x > 3 else 'отрицательный')\n",
        "\n",
        "y_pred = vec.transform(data_test['Estimate']).astype(int)\n",
        "y_test = vec.transform(data_test['Real']).astype(int)\n",
        "accuracy_score(y_test, y_pred)"
      ],
      "metadata": {
        "colab": {
          "base_uri": "https://localhost:8080/"
        },
        "id": "m33kok7E-5_4",
        "outputId": "991c8517-4964-460a-d727-618b3e8efe90"
      },
      "execution_count": 243,
      "outputs": [
        {
          "output_type": "execute_result",
          "data": {
            "text/plain": [
              "0.614"
            ]
          },
          "metadata": {},
          "execution_count": 243
        }
      ]
    },
    {
      "cell_type": "markdown",
      "source": [
        "Заметим, что при пропорциональной выборке точность тоже небольшая, однако она выше, чем в первом случае."
      ],
      "metadata": {
        "id": "N4hYqc2-_Hm3"
      }
    },
    {
      "cell_type": "markdown",
      "source": [
        "Также можно пробовать уже готовые модели из библиотек. Например, *TextBlob*:"
      ],
      "metadata": {
        "id": "jvdYwJ1MeIKp"
      }
    },
    {
      "cell_type": "code",
      "source": [
        "from textblob import TextBlob\n",
        "from textblob.sentiments import NaiveBayesAnalyzer\n",
        "nltk.download('brown')\n",
        "\n",
        "def neutral(text):\n",
        "    positive_count = int()\n",
        "    negative_count = int()\n",
        "    text_blob_object = TextBlob(text)\n",
        "    for noun_phrase in text_blob_object.noun_phrases:\n",
        "        if (TextBlob(noun_phrase).sentiment[0]) < 0:\n",
        "          negative_count += 1\n",
        "        elif (TextBlob(noun_phrase).sentiment[0]) > 0.5:\n",
        "          positive_count += 1\n",
        "    if positive_count > negative_count:\n",
        "      return 'положительный'\n",
        "    elif positive_count < negative_count:\n",
        "      return 'отрицательный'\n",
        "    else:\n",
        "      return 'нейтральный'"
      ],
      "metadata": {
        "colab": {
          "base_uri": "https://localhost:8080/"
        },
        "id": "bS7UbtxIeO_O",
        "outputId": "a979d708-6857-4e9e-986b-4f1b0fee0c53"
      },
      "execution_count": 253,
      "outputs": [
        {
          "output_type": "stream",
          "name": "stderr",
          "text": [
            "[nltk_data] Downloading package brown to /root/nltk_data...\n",
            "[nltk_data]   Package brown is already up-to-date!\n"
          ]
        }
      ]
    },
    {
      "cell_type": "markdown",
      "source": [
        "В этом примере на вход подается необработанный текст, TextBlob выделяет именные группы, после чего определяется тональность каждой из них."
      ],
      "metadata": {
        "id": "VlVbKRc_eSJN"
      }
    },
    {
      "cell_type": "code",
      "source": [
        "data3 = data.sample(frac=0.2)\n",
        "data3['Estimate'] = data3['Review'].apply(sentiment)\n",
        "data3['Review'] = data3['Review'].apply(lambda x: ' '.join(x))\n",
        "for index, row in data3.iterrows():\n",
        "    if row['Estimate'] == 'нейтральный':\n",
        "        data3.at[index, 'Estimate'] = neutral(row['Review'])\n",
        "\n",
        "stat3 = {'неверно': 0, 'верно': 0}\n",
        "for index, row in data3.iterrows():\n",
        "    if row['Estimate'] != row['Real']:\n",
        "      stat3['неверно'] += 1\n",
        "    else:\n",
        "      stat3['верно'] += 1\n",
        "\n",
        "print('Верно:', stat3['верно'], 'Неверно:', stat3['неверно'], 'Процент точности:', round(stat3['верно']/(stat3['верно']+stat3['неверно'])*100, 2))"
      ],
      "metadata": {
        "id": "3sw3oCsEej4X",
        "colab": {
          "base_uri": "https://localhost:8080/"
        },
        "outputId": "09b440bb-a760-4812-923d-21361beb83fd"
      },
      "execution_count": 273,
      "outputs": [
        {
          "output_type": "stream",
          "name": "stdout",
          "text": [
            "Верно: 478 Неверно: 52 Процент точности: 90.19\n"
          ]
        }
      ]
    },
    {
      "cell_type": "markdown",
      "source": [
        "2) Расширение тонального словаря путем расширения выборки"
      ],
      "metadata": {
        "id": "ftbtXCMXerbo"
      }
    },
    {
      "cell_type": "markdown",
      "source": [
        "Полная выборка состоит из около 3.3к примеров, поэтому попробуемм обработать весь датасет:"
      ],
      "metadata": {
        "id": "k6zhLFMYewmW"
      }
    },
    {
      "cell_type": "code",
      "source": [
        "data4 = data.copy()\n",
        "positive = data4[data4['Rate'] >= 4]['Review'].tolist()\n",
        "negative = data4[data4['Rate'] < 4]['Review'].tolist()\n",
        "positive = [element for each_list in positive for element in each_list]\n",
        "negative = [element for each_list in negative for element in each_list]\n",
        "only_positive = [x for x in positive if x not in negative]\n",
        "only_negative = [x for x in negative if x not in positive]"
      ],
      "metadata": {
        "id": "BmViRAA4ethg"
      },
      "execution_count": 274,
      "outputs": []
    },
    {
      "cell_type": "code",
      "source": [
        "only_positive_freq = []\n",
        "for word in only_positive:\n",
        "  if only_positive.count(word) > 2:\n",
        "    only_positive_freq.append(word)\n",
        "\n",
        "only_negative_freq = []\n",
        "for word in only_negative:\n",
        "  if only_negative.count(word) > 2:\n",
        "    only_negative_freq.append(word)\n",
        "\n",
        "only_positive_freq = set(only_positive_freq)\n",
        "only_negative_freq = set(only_negative_freq)"
      ],
      "metadata": {
        "id": "bup7WDrqi7N9"
      },
      "execution_count": 275,
      "outputs": []
    },
    {
      "cell_type": "code",
      "source": [
        "[len(only_positive_freq), len(only_negative_freq)]"
      ],
      "metadata": {
        "colab": {
          "base_uri": "https://localhost:8080/"
        },
        "id": "-ygbf9i1i-zA",
        "outputId": "c4f19055-5664-4351-ab41-44cc0d035e55"
      },
      "execution_count": 276,
      "outputs": [
        {
          "output_type": "execute_result",
          "data": {
            "text/plain": [
              "[3975, 62]"
            ]
          },
          "metadata": {},
          "execution_count": 276
        }
      ]
    },
    {
      "cell_type": "markdown",
      "source": [
        "Опять же наблюдается диспропорция. В дальнейшем эту ситуацию можно будет исправить добавлением бОльшего количества данных с отрицательной окраской (на сайте, с которого были спарсены все имеющиеся там отзывы, к сожалению, наблюдается перевес в сторону положительных отзывов)."
      ],
      "metadata": {
        "id": "b7AVH1-MAgaq"
      }
    },
    {
      "cell_type": "code",
      "source": [
        "data4 = data.sample(frac=0.3)\n",
        "data4['Estimate'] = data4['Review'].apply(sentiment)\n",
        "data4['Real'] = data4['Rate'].apply(lambda x: 'положительный' if x > 3 else 'отрицательный')\n",
        "\n",
        "stat4 = {'неверно': 0, 'верно': 0}\n",
        "for index, row in data4.iterrows():\n",
        "    if row['Estimate'] != row['Real']:\n",
        "      stat4['неверно'] += 1\n",
        "    else:\n",
        "      stat4['верно'] += 1\n",
        "\n",
        "print('Верно:', stat4['верно'], 'Неверно:', stat4['неверно'], 'Процент точности:', round(stat4['верно']/(stat4['верно']+stat4['неверно'])*100, 4))\n"
      ],
      "metadata": {
        "colab": {
          "base_uri": "https://localhost:8080/"
        },
        "id": "7RmBtjcKxOIK",
        "outputId": "45cd7451-958b-4ae1-a1ff-6b95bda6256e"
      },
      "execution_count": 110,
      "outputs": [
        {
          "output_type": "stream",
          "name": "stdout",
          "text": [
            "Верно: 733 Неверно: 61 Процент точности: 92.3174\n"
          ]
        }
      ]
    },
    {
      "cell_type": "markdown",
      "source": [
        "Пропорциональная выборка:"
      ],
      "metadata": {
        "id": "A5Qm7qL1BLlG"
      }
    },
    {
      "cell_type": "code",
      "source": [
        "pos_df = data[data['Real'] == 'положительный'].sample(n=250)\n",
        "neg_df = data[data['Real'] == 'отрицательный'].sample(n=250)\n",
        "data4 = pd.concat([pos_df, neg_df])\n",
        "data4['Estimate'] = data4['Review'].apply(sentiment)\n",
        "data4['Real'] = data4['Rate'].apply(lambda x: 'положительный' if x > 3 else 'отрицательный')\n",
        "\n",
        "stat4 = {'неверно': 0, 'верно': 0}\n",
        "for index, row in data4.iterrows():\n",
        "    if row['Estimate'] != row['Real']:\n",
        "      stat4['неверно'] += 1\n",
        "    else:\n",
        "      stat4['верно'] += 1\n",
        "\n",
        "print('Верно:', stat4['верно'], 'Неверно:', stat4['неверно'], 'Процент точности:', round(stat4['верно']/(stat4['верно']+stat4['неверно'])*100, 4))\n"
      ],
      "metadata": {
        "colab": {
          "base_uri": "https://localhost:8080/"
        },
        "id": "1ivnk_cVA957",
        "outputId": "75ebebf2-2cff-4039-ff5a-3fc6da5120d3"
      },
      "execution_count": 283,
      "outputs": [
        {
          "output_type": "stream",
          "name": "stdout",
          "text": [
            "Верно: 334 Неверно: 166 Процент точности: 66.8\n"
          ]
        }
      ]
    },
    {
      "cell_type": "markdown",
      "source": [
        "3) Расширение тонального словаря путем присоединения готовых размеченных словарей:"
      ],
      "metadata": {
        "id": "vLNhORKie4-K"
      }
    },
    {
      "cell_type": "markdown",
      "source": [
        "Например, можно использовать [Карту слов](https://github.com/dkulagin/kartaslov?ysclid=lmtihzuzyw822019313).\n"
      ],
      "metadata": {
        "id": "q1_366WdfBen"
      }
    },
    {
      "cell_type": "code",
      "source": [
        "sent_dict = pd.read_csv('kartaslovsent.csv', delimiter=';')"
      ],
      "metadata": {
        "id": "rm_mEjzCg5d7"
      },
      "execution_count": 111,
      "outputs": []
    },
    {
      "cell_type": "code",
      "source": [
        "sent_dict"
      ],
      "metadata": {
        "colab": {
          "base_uri": "https://localhost:8080/",
          "height": 423
        },
        "id": "2ua0IziIhASX",
        "outputId": "8092c6b2-6985-44c5-bb53-622a649eea19"
      },
      "execution_count": 284,
      "outputs": [
        {
          "output_type": "execute_result",
          "data": {
            "text/plain": [
              "               term   tag  value   pstv   ngtv   neut  dunno  \\\n",
              "0            абажур  NEUT   0.08  0.185  0.037  0.580  0.198   \n",
              "1         аббатство  NEUT   0.10  0.192  0.038  0.578  0.192   \n",
              "2      аббревиатура  NEUT   0.08  0.196  0.000  0.630  0.174   \n",
              "3             абзац  NEUT   0.00  0.137  0.000  0.706  0.157   \n",
              "4         абиссинец  NEUT   0.28  0.151  0.113  0.245  0.491   \n",
              "...             ...   ...    ...    ...    ...    ...    ...   \n",
              "46122       ёмкость  NEUT   0.00  0.167  0.000  0.690  0.143   \n",
              "46123        ёрзать  NGTV  -0.54  0.050  0.446  0.397  0.107   \n",
              "46124      ёрничать  NGTV  -0.79  0.078  0.529  0.236  0.157   \n",
              "46125           ёрш  NEUT   0.16  0.224  0.072  0.576  0.128   \n",
              "46126         ёршик  NEUT   0.00  0.152  0.043  0.718  0.087   \n",
              "\n",
              "       pstvNgtvDisagreementRatio  \n",
              "0                           0.00  \n",
              "1                           0.00  \n",
              "2                           0.00  \n",
              "3                           0.00  \n",
              "4                           0.19  \n",
              "...                          ...  \n",
              "46122                       0.00  \n",
              "46123                       0.00  \n",
              "46124                       0.00  \n",
              "46125                       0.00  \n",
              "46126                       0.00  \n",
              "\n",
              "[46127 rows x 8 columns]"
            ],
            "text/html": [
              "\n",
              "  <div id=\"df-f0834f35-5733-4083-b960-0a81110b4759\" class=\"colab-df-container\">\n",
              "    <div>\n",
              "<style scoped>\n",
              "    .dataframe tbody tr th:only-of-type {\n",
              "        vertical-align: middle;\n",
              "    }\n",
              "\n",
              "    .dataframe tbody tr th {\n",
              "        vertical-align: top;\n",
              "    }\n",
              "\n",
              "    .dataframe thead th {\n",
              "        text-align: right;\n",
              "    }\n",
              "</style>\n",
              "<table border=\"1\" class=\"dataframe\">\n",
              "  <thead>\n",
              "    <tr style=\"text-align: right;\">\n",
              "      <th></th>\n",
              "      <th>term</th>\n",
              "      <th>tag</th>\n",
              "      <th>value</th>\n",
              "      <th>pstv</th>\n",
              "      <th>ngtv</th>\n",
              "      <th>neut</th>\n",
              "      <th>dunno</th>\n",
              "      <th>pstvNgtvDisagreementRatio</th>\n",
              "    </tr>\n",
              "  </thead>\n",
              "  <tbody>\n",
              "    <tr>\n",
              "      <th>0</th>\n",
              "      <td>абажур</td>\n",
              "      <td>NEUT</td>\n",
              "      <td>0.08</td>\n",
              "      <td>0.185</td>\n",
              "      <td>0.037</td>\n",
              "      <td>0.580</td>\n",
              "      <td>0.198</td>\n",
              "      <td>0.00</td>\n",
              "    </tr>\n",
              "    <tr>\n",
              "      <th>1</th>\n",
              "      <td>аббатство</td>\n",
              "      <td>NEUT</td>\n",
              "      <td>0.10</td>\n",
              "      <td>0.192</td>\n",
              "      <td>0.038</td>\n",
              "      <td>0.578</td>\n",
              "      <td>0.192</td>\n",
              "      <td>0.00</td>\n",
              "    </tr>\n",
              "    <tr>\n",
              "      <th>2</th>\n",
              "      <td>аббревиатура</td>\n",
              "      <td>NEUT</td>\n",
              "      <td>0.08</td>\n",
              "      <td>0.196</td>\n",
              "      <td>0.000</td>\n",
              "      <td>0.630</td>\n",
              "      <td>0.174</td>\n",
              "      <td>0.00</td>\n",
              "    </tr>\n",
              "    <tr>\n",
              "      <th>3</th>\n",
              "      <td>абзац</td>\n",
              "      <td>NEUT</td>\n",
              "      <td>0.00</td>\n",
              "      <td>0.137</td>\n",
              "      <td>0.000</td>\n",
              "      <td>0.706</td>\n",
              "      <td>0.157</td>\n",
              "      <td>0.00</td>\n",
              "    </tr>\n",
              "    <tr>\n",
              "      <th>4</th>\n",
              "      <td>абиссинец</td>\n",
              "      <td>NEUT</td>\n",
              "      <td>0.28</td>\n",
              "      <td>0.151</td>\n",
              "      <td>0.113</td>\n",
              "      <td>0.245</td>\n",
              "      <td>0.491</td>\n",
              "      <td>0.19</td>\n",
              "    </tr>\n",
              "    <tr>\n",
              "      <th>...</th>\n",
              "      <td>...</td>\n",
              "      <td>...</td>\n",
              "      <td>...</td>\n",
              "      <td>...</td>\n",
              "      <td>...</td>\n",
              "      <td>...</td>\n",
              "      <td>...</td>\n",
              "      <td>...</td>\n",
              "    </tr>\n",
              "    <tr>\n",
              "      <th>46122</th>\n",
              "      <td>ёмкость</td>\n",
              "      <td>NEUT</td>\n",
              "      <td>0.00</td>\n",
              "      <td>0.167</td>\n",
              "      <td>0.000</td>\n",
              "      <td>0.690</td>\n",
              "      <td>0.143</td>\n",
              "      <td>0.00</td>\n",
              "    </tr>\n",
              "    <tr>\n",
              "      <th>46123</th>\n",
              "      <td>ёрзать</td>\n",
              "      <td>NGTV</td>\n",
              "      <td>-0.54</td>\n",
              "      <td>0.050</td>\n",
              "      <td>0.446</td>\n",
              "      <td>0.397</td>\n",
              "      <td>0.107</td>\n",
              "      <td>0.00</td>\n",
              "    </tr>\n",
              "    <tr>\n",
              "      <th>46124</th>\n",
              "      <td>ёрничать</td>\n",
              "      <td>NGTV</td>\n",
              "      <td>-0.79</td>\n",
              "      <td>0.078</td>\n",
              "      <td>0.529</td>\n",
              "      <td>0.236</td>\n",
              "      <td>0.157</td>\n",
              "      <td>0.00</td>\n",
              "    </tr>\n",
              "    <tr>\n",
              "      <th>46125</th>\n",
              "      <td>ёрш</td>\n",
              "      <td>NEUT</td>\n",
              "      <td>0.16</td>\n",
              "      <td>0.224</td>\n",
              "      <td>0.072</td>\n",
              "      <td>0.576</td>\n",
              "      <td>0.128</td>\n",
              "      <td>0.00</td>\n",
              "    </tr>\n",
              "    <tr>\n",
              "      <th>46126</th>\n",
              "      <td>ёршик</td>\n",
              "      <td>NEUT</td>\n",
              "      <td>0.00</td>\n",
              "      <td>0.152</td>\n",
              "      <td>0.043</td>\n",
              "      <td>0.718</td>\n",
              "      <td>0.087</td>\n",
              "      <td>0.00</td>\n",
              "    </tr>\n",
              "  </tbody>\n",
              "</table>\n",
              "<p>46127 rows × 8 columns</p>\n",
              "</div>\n",
              "    <div class=\"colab-df-buttons\">\n",
              "\n",
              "  <div class=\"colab-df-container\">\n",
              "    <button class=\"colab-df-convert\" onclick=\"convertToInteractive('df-f0834f35-5733-4083-b960-0a81110b4759')\"\n",
              "            title=\"Convert this dataframe to an interactive table.\"\n",
              "            style=\"display:none;\">\n",
              "\n",
              "  <svg xmlns=\"http://www.w3.org/2000/svg\" height=\"24px\" viewBox=\"0 -960 960 960\">\n",
              "    <path d=\"M120-120v-720h720v720H120Zm60-500h600v-160H180v160Zm220 220h160v-160H400v160Zm0 220h160v-160H400v160ZM180-400h160v-160H180v160Zm440 0h160v-160H620v160ZM180-180h160v-160H180v160Zm440 0h160v-160H620v160Z\"/>\n",
              "  </svg>\n",
              "    </button>\n",
              "\n",
              "  <style>\n",
              "    .colab-df-container {\n",
              "      display:flex;\n",
              "      gap: 12px;\n",
              "    }\n",
              "\n",
              "    .colab-df-convert {\n",
              "      background-color: #E8F0FE;\n",
              "      border: none;\n",
              "      border-radius: 50%;\n",
              "      cursor: pointer;\n",
              "      display: none;\n",
              "      fill: #1967D2;\n",
              "      height: 32px;\n",
              "      padding: 0 0 0 0;\n",
              "      width: 32px;\n",
              "    }\n",
              "\n",
              "    .colab-df-convert:hover {\n",
              "      background-color: #E2EBFA;\n",
              "      box-shadow: 0px 1px 2px rgba(60, 64, 67, 0.3), 0px 1px 3px 1px rgba(60, 64, 67, 0.15);\n",
              "      fill: #174EA6;\n",
              "    }\n",
              "\n",
              "    .colab-df-buttons div {\n",
              "      margin-bottom: 4px;\n",
              "    }\n",
              "\n",
              "    [theme=dark] .colab-df-convert {\n",
              "      background-color: #3B4455;\n",
              "      fill: #D2E3FC;\n",
              "    }\n",
              "\n",
              "    [theme=dark] .colab-df-convert:hover {\n",
              "      background-color: #434B5C;\n",
              "      box-shadow: 0px 1px 3px 1px rgba(0, 0, 0, 0.15);\n",
              "      filter: drop-shadow(0px 1px 2px rgba(0, 0, 0, 0.3));\n",
              "      fill: #FFFFFF;\n",
              "    }\n",
              "  </style>\n",
              "\n",
              "    <script>\n",
              "      const buttonEl =\n",
              "        document.querySelector('#df-f0834f35-5733-4083-b960-0a81110b4759 button.colab-df-convert');\n",
              "      buttonEl.style.display =\n",
              "        google.colab.kernel.accessAllowed ? 'block' : 'none';\n",
              "\n",
              "      async function convertToInteractive(key) {\n",
              "        const element = document.querySelector('#df-f0834f35-5733-4083-b960-0a81110b4759');\n",
              "        const dataTable =\n",
              "          await google.colab.kernel.invokeFunction('convertToInteractive',\n",
              "                                                    [key], {});\n",
              "        if (!dataTable) return;\n",
              "\n",
              "        const docLinkHtml = 'Like what you see? Visit the ' +\n",
              "          '<a target=\"_blank\" href=https://colab.research.google.com/notebooks/data_table.ipynb>data table notebook</a>'\n",
              "          + ' to learn more about interactive tables.';\n",
              "        element.innerHTML = '';\n",
              "        dataTable['output_type'] = 'display_data';\n",
              "        await google.colab.output.renderOutput(dataTable, element);\n",
              "        const docLink = document.createElement('div');\n",
              "        docLink.innerHTML = docLinkHtml;\n",
              "        element.appendChild(docLink);\n",
              "      }\n",
              "    </script>\n",
              "  </div>\n",
              "\n",
              "\n",
              "<div id=\"df-fc70331d-9c2e-47fc-bcf4-75f11054122a\">\n",
              "  <button class=\"colab-df-quickchart\" onclick=\"quickchart('df-fc70331d-9c2e-47fc-bcf4-75f11054122a')\"\n",
              "            title=\"Suggest charts.\"\n",
              "            style=\"display:none;\">\n",
              "\n",
              "<svg xmlns=\"http://www.w3.org/2000/svg\" height=\"24px\"viewBox=\"0 0 24 24\"\n",
              "     width=\"24px\">\n",
              "    <g>\n",
              "        <path d=\"M19 3H5c-1.1 0-2 .9-2 2v14c0 1.1.9 2 2 2h14c1.1 0 2-.9 2-2V5c0-1.1-.9-2-2-2zM9 17H7v-7h2v7zm4 0h-2V7h2v10zm4 0h-2v-4h2v4z\"/>\n",
              "    </g>\n",
              "</svg>\n",
              "  </button>\n",
              "\n",
              "<style>\n",
              "  .colab-df-quickchart {\n",
              "      --bg-color: #E8F0FE;\n",
              "      --fill-color: #1967D2;\n",
              "      --hover-bg-color: #E2EBFA;\n",
              "      --hover-fill-color: #174EA6;\n",
              "      --disabled-fill-color: #AAA;\n",
              "      --disabled-bg-color: #DDD;\n",
              "  }\n",
              "\n",
              "  [theme=dark] .colab-df-quickchart {\n",
              "      --bg-color: #3B4455;\n",
              "      --fill-color: #D2E3FC;\n",
              "      --hover-bg-color: #434B5C;\n",
              "      --hover-fill-color: #FFFFFF;\n",
              "      --disabled-bg-color: #3B4455;\n",
              "      --disabled-fill-color: #666;\n",
              "  }\n",
              "\n",
              "  .colab-df-quickchart {\n",
              "    background-color: var(--bg-color);\n",
              "    border: none;\n",
              "    border-radius: 50%;\n",
              "    cursor: pointer;\n",
              "    display: none;\n",
              "    fill: var(--fill-color);\n",
              "    height: 32px;\n",
              "    padding: 0;\n",
              "    width: 32px;\n",
              "  }\n",
              "\n",
              "  .colab-df-quickchart:hover {\n",
              "    background-color: var(--hover-bg-color);\n",
              "    box-shadow: 0 1px 2px rgba(60, 64, 67, 0.3), 0 1px 3px 1px rgba(60, 64, 67, 0.15);\n",
              "    fill: var(--button-hover-fill-color);\n",
              "  }\n",
              "\n",
              "  .colab-df-quickchart-complete:disabled,\n",
              "  .colab-df-quickchart-complete:disabled:hover {\n",
              "    background-color: var(--disabled-bg-color);\n",
              "    fill: var(--disabled-fill-color);\n",
              "    box-shadow: none;\n",
              "  }\n",
              "\n",
              "  .colab-df-spinner {\n",
              "    border: 2px solid var(--fill-color);\n",
              "    border-color: transparent;\n",
              "    border-bottom-color: var(--fill-color);\n",
              "    animation:\n",
              "      spin 1s steps(1) infinite;\n",
              "  }\n",
              "\n",
              "  @keyframes spin {\n",
              "    0% {\n",
              "      border-color: transparent;\n",
              "      border-bottom-color: var(--fill-color);\n",
              "      border-left-color: var(--fill-color);\n",
              "    }\n",
              "    20% {\n",
              "      border-color: transparent;\n",
              "      border-left-color: var(--fill-color);\n",
              "      border-top-color: var(--fill-color);\n",
              "    }\n",
              "    30% {\n",
              "      border-color: transparent;\n",
              "      border-left-color: var(--fill-color);\n",
              "      border-top-color: var(--fill-color);\n",
              "      border-right-color: var(--fill-color);\n",
              "    }\n",
              "    40% {\n",
              "      border-color: transparent;\n",
              "      border-right-color: var(--fill-color);\n",
              "      border-top-color: var(--fill-color);\n",
              "    }\n",
              "    60% {\n",
              "      border-color: transparent;\n",
              "      border-right-color: var(--fill-color);\n",
              "    }\n",
              "    80% {\n",
              "      border-color: transparent;\n",
              "      border-right-color: var(--fill-color);\n",
              "      border-bottom-color: var(--fill-color);\n",
              "    }\n",
              "    90% {\n",
              "      border-color: transparent;\n",
              "      border-bottom-color: var(--fill-color);\n",
              "    }\n",
              "  }\n",
              "</style>\n",
              "\n",
              "  <script>\n",
              "    async function quickchart(key) {\n",
              "      const quickchartButtonEl =\n",
              "        document.querySelector('#' + key + ' button');\n",
              "      quickchartButtonEl.disabled = true;  // To prevent multiple clicks.\n",
              "      quickchartButtonEl.classList.add('colab-df-spinner');\n",
              "      try {\n",
              "        const charts = await google.colab.kernel.invokeFunction(\n",
              "            'suggestCharts', [key], {});\n",
              "      } catch (error) {\n",
              "        console.error('Error during call to suggestCharts:', error);\n",
              "      }\n",
              "      quickchartButtonEl.classList.remove('colab-df-spinner');\n",
              "      quickchartButtonEl.classList.add('colab-df-quickchart-complete');\n",
              "    }\n",
              "    (() => {\n",
              "      let quickchartButtonEl =\n",
              "        document.querySelector('#df-fc70331d-9c2e-47fc-bcf4-75f11054122a button');\n",
              "      quickchartButtonEl.style.display =\n",
              "        google.colab.kernel.accessAllowed ? 'block' : 'none';\n",
              "    })();\n",
              "  </script>\n",
              "</div>\n",
              "    </div>\n",
              "  </div>\n"
            ]
          },
          "metadata": {},
          "execution_count": 284
        }
      ]
    },
    {
      "cell_type": "code",
      "source": [
        "def sentiment2(text):\n",
        "  positive_count = int()\n",
        "  negative_count = int()\n",
        "  for lemma in text:\n",
        "    if lemma in only_positive_freq:\n",
        "      positive_count += 1\n",
        "    elif lemma in only_negative_freq:\n",
        "      negative_count += 1\n",
        "    elif lemma in sent_dict['term']:\n",
        "      if sent_dict[sent_dict['term'] == lemma]['tag'] == 'PSTV':\n",
        "        positive_count += 1\n",
        "      elif sent_dict[sent_dict['term'] == lemma]['tag'] == 'NGTV':\n",
        "        negative_count += 1\n",
        "\n",
        "  if positive_count > negative_count:\n",
        "    return 'положительный'\n",
        "  elif positive_count < negative_count:\n",
        "    return 'отрицательный'\n",
        "  else:\n",
        "    return 'нейтральный'"
      ],
      "metadata": {
        "id": "wihewU-lhALg"
      },
      "execution_count": 285,
      "outputs": []
    },
    {
      "cell_type": "code",
      "source": [
        "data5 = data.sample(frac=0.2)\n",
        "data5['Estimate'] = data5['Review'].apply(sentiment)\n",
        "data5['Real'] = data5['Rate'].apply(lambda x: 'положительный' if x > 3 else 'отрицательный')\n",
        "\n",
        "stat5 = {'неверно': 0, 'верно': 0}\n",
        "for index, row in data5.iterrows():\n",
        "    if row['Estimate'] != row['Real']:\n",
        "      stat5['неверно'] += 1\n",
        "    else:\n",
        "      stat5['верно'] += 1\n",
        "\n",
        "print('Верно:', stat5['верно'], 'Неверно:', stat5['неверно'], 'Процент точности:', round(stat5['верно']/(stat5['верно']+stat5['неверно'])*100, 3))"
      ],
      "metadata": {
        "id": "xwVaMSVrhCGN",
        "colab": {
          "base_uri": "https://localhost:8080/"
        },
        "outputId": "63a88ab9-7c7f-4e21-ae2f-1bc9c5414eb4"
      },
      "execution_count": 115,
      "outputs": [
        {
          "output_type": "stream",
          "name": "stdout",
          "text": [
            "Верно: 488 Неверно: 42 Процент точности: 92.075\n"
          ]
        }
      ]
    },
    {
      "cell_type": "markdown",
      "source": [
        "4) Также я пробовала использовать удаление стоп-слов для повышения точности:"
      ],
      "metadata": {
        "id": "ZFO2uh9ShD8w"
      }
    },
    {
      "cell_type": "code",
      "source": [
        "only_positive_freq = []\n",
        "for word in only_positive:\n",
        "  if only_positive.count(word) > 2:\n",
        "    only_positive_freq.append(word)\n",
        "\n",
        "only_negative_freq = []\n",
        "for word in only_negative:\n",
        "  if only_negative.count(word) > 2:\n",
        "    only_negative_freq.append(word)\n",
        "\n",
        "only_positive_freq = set(only_positive_freq)\n",
        "only_negative_freq = set(only_negative_freq)"
      ],
      "metadata": {
        "id": "R6WNaDT4Chwj"
      },
      "execution_count": 336,
      "outputs": []
    },
    {
      "cell_type": "code",
      "source": [
        "only_positive_freq2 = [x for x in only_positive_freq if x not in list(stops)]\n",
        "only_negative_freq2 = [x for x in only_negative_freq if x not in list(stops)]"
      ],
      "metadata": {
        "id": "Be8BV5DQhOzv"
      },
      "execution_count": 337,
      "outputs": []
    },
    {
      "cell_type": "code",
      "source": [
        "[len(only_positive_freq2), len(only_negative_freq2)]"
      ],
      "metadata": {
        "colab": {
          "base_uri": "https://localhost:8080/"
        },
        "id": "erz9duOqhPuX",
        "outputId": "93904783-8ed2-443b-e79f-d17aa7fe2c7a"
      },
      "execution_count": 338,
      "outputs": [
        {
          "output_type": "execute_result",
          "data": {
            "text/plain": [
              "[3975, 62]"
            ]
          },
          "metadata": {},
          "execution_count": 338
        }
      ]
    },
    {
      "cell_type": "markdown",
      "source": [
        "Однако этот метод ни к чему не привел, поскольку, вероятнее всего, стоп-слова находятся на пересечении двух категорий отзывов (встречаются как в положительных, так и в отрицательных отзывах), поэтому объем словаря не меняется --> не меняется точность."
      ],
      "metadata": {
        "id": "7Gm2a9udhRxp"
      }
    }
  ]
}